{
  "nbformat": 4,
  "nbformat_minor": 0,
  "metadata": {
    "colab": {
      "name": "Untitled10.ipynb",
      "provenance": [],
      "collapsed_sections": [],
      "authorship_tag": "ABX9TyPe1KhJYpkK1Ko7S66gt5lV",
      "include_colab_link": true
    },
    "kernelspec": {
      "name": "python3",
      "display_name": "Python 3"
    }
  },
  "cells": [
    {
      "cell_type": "markdown",
      "metadata": {
        "id": "view-in-github",
        "colab_type": "text"
      },
      "source": [
        "<a href=\"https://colab.research.google.com/github/shriraksha7/ShrirakshaM/blob/master/Untitled10.ipynb\" target=\"_parent\"><img src=\"https://colab.research.google.com/assets/colab-badge.svg\" alt=\"Open In Colab\"/></a>"
      ]
    },
    {
      "cell_type": "code",
      "metadata": {
        "id": "5REBwRz5fqWI",
        "colab_type": "code",
        "colab": {}
      },
      "source": [
        ""
      ],
      "execution_count": null,
      "outputs": []
    },
    {
      "cell_type": "markdown",
      "metadata": {
        "id": "_1NlLu01fwhH",
        "colab_type": "text"
      },
      "source": [
        " Removes all elements of dictionary dict¶"
      ]
    },
    {
      "cell_type": "code",
      "metadata": {
        "id": "eiMwNWnHfxPo",
        "colab_type": "code",
        "colab": {
          "base_uri": "https://localhost:8080/",
          "height": 51
        },
        "outputId": "bb3503c1-13a9-4c53-90d7-c08c33cd7bfa"
      },
      "source": [
        " dict = {'Name': 'Zara', 'Age': 7};\n",
        "print(\"Start Len : %d\" %  len(dict))\n",
        "dict.clear()\n",
        "print(\"End Len : %d\" %  len(dict))"
      ],
      "execution_count": null,
      "outputs": [
        {
          "output_type": "stream",
          "text": [
            "Start Len : 2\n",
            "End Len : 0\n"
          ],
          "name": "stdout"
        }
      ]
    },
    {
      "cell_type": "markdown",
      "metadata": {
        "id": "rz7j8iHsf3ZC",
        "colab_type": "text"
      },
      "source": [
        " dict.items()¶Returns a list of dict's (key, value) tuple pairs"
      ]
    },
    {
      "cell_type": "code",
      "metadata": {
        "id": "n1XrH1WDf6wQ",
        "colab_type": "code",
        "colab": {
          "base_uri": "https://localhost:8080/",
          "height": 54
        },
        "outputId": "4b979a9f-0a6e-4938-80a8-e090a3a5d953"
      },
      "source": [
        " dict = {'Name': 'Zara', 'Age': 7}\n",
        "print (\"Value : %s\" %  dict.items())"
      ],
      "execution_count": null,
      "outputs": [
        {
          "output_type": "stream",
          "text": [
            "Value : dict_items([('Name', 'Zara'), ('Age', 7)])\n"
          ],
          "name": "stdout"
        }
      ]
    },
    {
      "cell_type": "markdown",
      "metadata": {
        "id": "IY_R8ovNf_Mo",
        "colab_type": "text"
      },
      "source": [
        " dict.items()¶Returns a list of dict's (key, value) tuple pairs"
      ]
    },
    {
      "cell_type": "code",
      "metadata": {
        "id": "sNB0lz9zgDIJ",
        "colab_type": "code",
        "colab": {
          "base_uri": "https://localhost:8080/",
          "height": 54
        },
        "outputId": "deff2695-6416-4845-80a5-ae43b2842474"
      },
      "source": [
        " dict1 = {'Name': 'Zara', 'Age': 7};\n",
        "dict2 = dict1.copy()\n",
        "print (\"New Dictinary : %s\" %  str(dict2))"
      ],
      "execution_count": null,
      "outputs": [
        {
          "output_type": "stream",
          "text": [
            "New Dictinary : {'Name': 'Zara', 'Age': 7}\n"
          ],
          "name": "stdout"
        }
      ]
    },
    {
      "cell_type": "markdown",
      "metadata": {
        "id": "12aV6vMQgKma",
        "colab_type": "text"
      },
      "source": [
        " Python Program to Generate a Dictionary that Contains Numbers (between 1 and n) in the Form (x,x*x)."
      ]
    },
    {
      "cell_type": "code",
      "metadata": {
        "id": "4rWMWy2igN-a",
        "colab_type": "code",
        "colab": {
          "base_uri": "https://localhost:8080/",
          "height": 71
        },
        "outputId": "950faf66-0e71-414a-b025-de0d1a3dadc6"
      },
      "source": [
        " n=int(input(\"Enter a number:\"))\n",
        "d={x:x*x for x in range(1,n+1)}\n",
        "print(d)"
      ],
      "execution_count": null,
      "outputs": [
        {
          "output_type": "stream",
          "text": [
            "Enter a number:6\n",
            "{1: 1, 2: 4, 3: 9, 4: 16, 5: 25, 6: 36}\n"
          ],
          "name": "stdout"
        }
      ]
    },
    {
      "cell_type": "markdown",
      "metadata": {
        "id": "85HjoX41gSkH",
        "colab_type": "text"
      },
      "source": [
        " Python Program to Sum All the Items in a Dictionary"
      ]
    },
    {
      "cell_type": "code",
      "metadata": {
        "id": "nVK1ssg6gWJG",
        "colab_type": "code",
        "colab": {
          "base_uri": "https://localhost:8080/",
          "height": 102
        },
        "outputId": "7c037860-2a91-4566-ec09-cea2a7d152f4"
      },
      "source": [
        " d = {'a':1,'b':2,'c':3,'d':4}\n",
        "print(\"Initial dictionary\")\n",
        "print(d)\n",
        "key=input(\"Enter the key to delete(a-d):\")\n",
        "if key in d: \n",
        "    del d[key]\n",
        "else:\n",
        "    print(\"Key not found!\")\n",
        "    exit(0)\n",
        "print(\"Updated dictionary\")\n",
        "print(d)"
      ],
      "execution_count": null,
      "outputs": [
        {
          "output_type": "stream",
          "text": [
            "Initial dictionary\n",
            "{'a': 1, 'b': 2, 'c': 3, 'd': 4}\n",
            "Enter the key to delete(a-d):c\n",
            "Updated dictionary\n",
            "{'a': 1, 'b': 2, 'd': 4}\n"
          ],
          "name": "stdout"
        }
      ]
    },
    {
      "cell_type": "markdown",
      "metadata": {
        "id": "nV5wmlR5gemX",
        "colab_type": "text"
      },
      "source": [
        " Python Program to add name and mark as key->value pair in a Dictionary and print it."
      ]
    },
    {
      "cell_type": "code",
      "metadata": {
        "id": "M7DR_PargiaQ",
        "colab_type": "code",
        "colab": {
          "base_uri": "https://localhost:8080/",
          "height": 258
        },
        "outputId": "d365841a-b7fe-44e4-ece7-28a92724bfb3"
      },
      "source": [
        " n=int(input(\"Enter no of records\"))\n",
        "d={}\n",
        "for i in range(1,n+1):\n",
        "    name= input(\"Enter name %d\"%(i))\n",
        "    mark=int(input(\"Enter mark %d\"%(i)))\n",
        "    d[name]=mark\n",
        "    print (d)"
      ],
      "execution_count": null,
      "outputs": [
        {
          "output_type": "stream",
          "text": [
            "Enter no of records4\n",
            "Enter name 1Shraddha\n",
            "Enter mark 1190\n",
            "{'Shraddha': 190}\n",
            "Enter name 2Anjina\n",
            "Enter mark 2290\n",
            "{'Shraddha': 190, 'Anjina': 290}\n",
            "Enter name 3Sanvi\n",
            "Enter mark 3397\n",
            "{'Shraddha': 190, 'Anjina': 290, 'Sanvi': 397}\n",
            "Enter name 4Sujana\n",
            "Enter mark 4490\n",
            "{'Shraddha': 190, 'Anjina': 290, 'Sanvi': 397, 'Sujana': 490}\n"
          ],
          "name": "stdout"
        }
      ]
    },
    {
      "cell_type": "markdown",
      "metadata": {
        "id": "muuuWO8JgyEh",
        "colab_type": "text"
      },
      "source": [
        " Keys and Values example¶"
      ]
    },
    {
      "cell_type": "code",
      "metadata": {
        "id": "ZgmN9txlg1oP",
        "colab_type": "code",
        "colab": {
          "base_uri": "https://localhost:8080/",
          "height": 513
        },
        "outputId": "24596508-bf03-4d85-e23b-800bdc577ffa"
      },
      "source": [
        " d={}\n",
        "print (\" The dictionary elements are\")\n",
        "for i in range(1,21):\n",
        "    d[i]=i**2\n",
        "print (d)\n",
        " # To print key and values\n",
        "print (\" Key==> Value are\")\n",
        "for (k,v) in d.items(): \n",
        "    print(k,\"==>\",v)\n",
        " # To print key only\n",
        "print (\"\\nTo print key only\")\n",
        "for k in d.keys():  \n",
        "      print(k, end=\" \")\n",
        "  #To print value only\n",
        "print (\"\\nTo print values only\")\n",
        "for v in d.values():    \n",
        "    print(v, end=\" \")"
      ],
      "execution_count": null,
      "outputs": [
        {
          "output_type": "stream",
          "text": [
            " The dictionary elements are\n",
            "{1: 1, 2: 4, 3: 9, 4: 16, 5: 25, 6: 36, 7: 49, 8: 64, 9: 81, 10: 100, 11: 121, 12: 144, 13: 169, 14: 196, 15: 225, 16: 256, 17: 289, 18: 324, 19: 361, 20: 400}\n",
            " Key==> Value are\n",
            "1 ==> 1\n",
            "2 ==> 4\n",
            "3 ==> 9\n",
            "4 ==> 16\n",
            "5 ==> 25\n",
            "6 ==> 36\n",
            "7 ==> 49\n",
            "8 ==> 64\n",
            "9 ==> 81\n",
            "10 ==> 100\n",
            "11 ==> 121\n",
            "12 ==> 144\n",
            "13 ==> 169\n",
            "14 ==> 196\n",
            "15 ==> 225\n",
            "16 ==> 256\n",
            "17 ==> 289\n",
            "18 ==> 324\n",
            "19 ==> 361\n",
            "20 ==> 400\n",
            "\n",
            "To print key only\n",
            "1 2 3 4 5 6 7 8 9 10 11 12 13 14 15 16 17 18 19 20 \n",
            "To print values only\n",
            "1 4 9 16 25 36 49 64 81 100 121 144 169 196 225 256 289 324 361 400 "
          ],
          "name": "stdout"
        }
      ]
    },
    {
      "cell_type": "markdown",
      "metadata": {
        "id": "1IC97pDrg8PZ",
        "colab_type": "text"
      },
      "source": [
        " Python program to convert 2 digit number into words"
      ]
    },
    {
      "cell_type": "code",
      "metadata": {
        "id": "Un_B6_Neg_NJ",
        "colab_type": "code",
        "colab": {
          "base_uri": "https://localhost:8080/",
          "height": 71
        },
        "outputId": "7629b719-8b86-48ce-92a7-d3379950a00e"
      },
      "source": [
        " d={0:'',1:'one',2:'two',3:'three',4:'four',5:'five',6:'six',7:'seven',8:'eight',9:'nine',\\\n",
        "   10:'ten',11:'eleven',12:'twelve',13:'thirteen',14:'fourteen',15:'fifteen',16:'sixteen',\\\n",
        "   17:'seventeen',18:'eightteen',19:'nineteen',20:'twenty',30:'thirty',40:'fourty',50:'fifty',\\\n",
        "   60:'sixty',70:'seventy',80:'eighty',90:'ninty'}\n",
        " \n",
        "num=int(input(\"Enter the integer between 1 to 99:\"))\n",
        "if (num<=20):\n",
        "      print(d[num])\n",
        "if(num>20 and num<100):\n",
        "        if num%10==0:       \n",
        "            print(d[num])\n",
        "        else:\n",
        "            print(d[num//10*10]+\" \"+d[num%10])"
      ],
      "execution_count": null,
      "outputs": [
        {
          "output_type": "stream",
          "text": [
            "Enter the integer between 1 to 99:56\n",
            "fifty six\n"
          ],
          "name": "stdout"
        }
      ]
    }
  ]
}