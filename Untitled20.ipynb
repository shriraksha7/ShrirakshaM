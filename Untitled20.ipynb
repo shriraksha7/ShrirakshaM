{
  "nbformat": 4,
  "nbformat_minor": 0,
  "metadata": {
    "colab": {
      "name": "Untitled20.ipynb",
      "provenance": [],
      "authorship_tag": "ABX9TyMGOwBsQovwPE4e4skynlrP",
      "include_colab_link": true
    },
    "kernelspec": {
      "name": "python3",
      "display_name": "Python 3"
    }
  },
  "cells": [
    {
      "cell_type": "markdown",
      "metadata": {
        "id": "view-in-github",
        "colab_type": "text"
      },
      "source": [
        "<a href=\"https://colab.research.google.com/github/shriraksha7/ShrirakshaM/blob/master/Untitled20.ipynb\" target=\"_parent\"><img src=\"https://colab.research.google.com/assets/colab-badge.svg\" alt=\"Open In Colab\"/></a>"
      ]
    },
    {
      "cell_type": "code",
      "metadata": {
        "id": "CRdUM_jKzAJH",
        "colab_type": "code",
        "colab": {}
      },
      "source": [
        ""
      ],
      "execution_count": null,
      "outputs": []
    },
    {
      "cell_type": "markdown",
      "metadata": {
        "id": "HcmKgczkzDsi",
        "colab_type": "text"
      },
      "source": [
        " 1)1. Add rollno and marks {name:mark} for n number of students through keyboard in a dictionary and print the marks in descending order with respective name."
      ]
    },
    {
      "cell_type": "code",
      "metadata": {
        "id": "5n0gcAzAzIf5",
        "colab_type": "code",
        "colab": {
          "base_uri": "https://localhost:8080/",
          "height": 275
        },
        "outputId": "7363c225-b387-4b23-f211-0a2e9e406b92"
      },
      "source": [
        " dict={}\n",
        "n=int(input(\"enter the no of students\"))\n",
        "for i in range(n):\n",
        "  name=input(\"Enter the name\")\n",
        "  marks=int(input(\"Enter the marks\"))\n",
        "  dict[name]=marks\n",
        "print(dict)\n",
        "d1=dict.items()\n",
        "sort=sorted(d1,reverse=True);\n",
        "print(\"The sorted dictionary is\")\n",
        "print(sort)"
      ],
      "execution_count": null,
      "outputs": [
        {
          "output_type": "stream",
          "text": [
            "enter the no of students5\n",
            "Enter the nameArni\n",
            "Enter the marks95\n",
            "Enter the nameSeema\n",
            "Enter the marks96\n",
            "Enter the nameTanu\n",
            "Enter the marks92\n",
            "Enter the nameZiva\n",
            "Enter the marks88\n",
            "Enter the nameYami\n",
            "Enter the marks88\n",
            "{'Arni': 95, 'Seema': 96, 'Tanu': 92, 'Ziva': 88, 'Yami': 88}\n",
            "The sorted dictionary is\n",
            "[('Ziva', 88), ('Yami', 88), ('Tanu', 92), ('Seema', 96), ('Arni', 95)]\n"
          ],
          "name": "stdout"
        }
      ]
    },
    {
      "cell_type": "markdown",
      "metadata": {
        "id": "V6zXmPQSzeKe",
        "colab_type": "text"
      },
      "source": [
        " Add name and salary {name:salary} for n number of employees through keyboard in a dictionary and print them in name alphabetical order with salary"
      ]
    },
    {
      "cell_type": "code",
      "metadata": {
        "id": "cTiAG7QZzlFT",
        "colab_type": "code",
        "colab": {
          "base_uri": "https://localhost:8080/",
          "height": 275
        },
        "outputId": "3f721c0b-48ab-4f5a-dfa6-6c1ade55d40a"
      },
      "source": [
        " dict={}\n",
        "n=int(input(\"enter the no of employees\"))\n",
        "for i in range(n):\n",
        "  name=input(\"Enter the name\")\n",
        "  marks=int(input(\"Enter the salary\"))\n",
        "  dict[name]=marks\n",
        "print(dict)\n",
        "d1=dict.items()\n",
        "sort=sorted(d1);\n",
        "print(\"The sorted dictionary is\")\n",
        "print(sort)"
      ],
      "execution_count": null,
      "outputs": [
        {
          "output_type": "stream",
          "text": [
            "enter the no of employees5\n",
            "Enter the nameSiya\n",
            "Enter the salary20000\n",
            "Enter the nameArni\n",
            "Enter the salary20033\n",
            "Enter the nameTina\n",
            "Enter the salary25000\n",
            "Enter the nameNaksha\n",
            "Enter the salary21000\n",
            "Enter the nameSiri\n",
            "Enter the salary18000\n",
            "{'Siya': 20000, 'Arni': 20033, 'Tina': 25000, 'Naksha': 21000, 'Siri': 18000}\n",
            "The sorted dictionary is\n",
            "[('Arni', 20033), ('Naksha', 21000), ('Siri', 18000), ('Siya', 20000), ('Tina', 25000)]\n"
          ],
          "name": "stdout"
        }
      ]
    },
    {
      "cell_type": "markdown",
      "metadata": {
        "id": "UKz6E0M-3XAi",
        "colab_type": "text"
      },
      "source": [
        " Add name and salary {name:salary} for n number of employees through keyboard in a dictionary and print them in salary ascending order and sum, max, min and average of the salaries"
      ]
    },
    {
      "cell_type": "code",
      "metadata": {
        "id": "AXsj_IZv3eHF",
        "colab_type": "code",
        "colab": {
          "base_uri": "https://localhost:8080/",
          "height": 394
        },
        "outputId": "aa810212-0f8c-4f96-f14e-0537477adb83"
      },
      "source": [
        " import statistics\n",
        "dict={}\n",
        "n=int(input(\"enter the no of employees\"))\n",
        "for i in range(n):\n",
        "  name=input(\"Enter the name\")\n",
        "  marks=int(input(\"Enter the salary\"))\n",
        "  dict[name]=marks\n",
        "print(dict)\n",
        "sort=sorted(dict.items(),key=lambda x:x[1]);\n",
        "print(\"The sorted dictionary is\")\n",
        "print(sort)\n",
        "print(\"The sum is\")\n",
        "print(sum(dict.values()))\n",
        "print(\"the maximum is\")\n",
        "max_val=max(dict,key=dict.get)\n",
        "print(max_val)\n",
        "print(\"the minimum is\")\n",
        "min_val=min(dict,key=dict.get)\n",
        "print(min_val)\n",
        " \n",
        "mean= statistics.mean(dict.values()) \n",
        " \n",
        "print(\"The average of salary is\",mean)"
      ],
      "execution_count": null,
      "outputs": [
        {
          "output_type": "stream",
          "text": [
            "enter the no of employees5\n",
            "Enter the nameSeema\n",
            "Enter the salary20000\n",
            "Enter the nameSiri\n",
            "Enter the salary10000\n",
            "Enter the nameTanvi\n",
            "Enter the salary150000\n",
            "Enter the nameRita\n",
            "Enter the salary18000\n",
            "Enter the nameZiva\n",
            "Enter the salary25000\n",
            "{'Seema': 20000, 'Siri': 10000, 'Tanvi': 150000, 'Rita': 18000, 'Ziva': 25000}\n",
            "The sorted dictionary is\n",
            "[('Siri', 10000), ('Rita', 18000), ('Seema', 20000), ('Ziva', 25000), ('Tanvi', 150000)]\n",
            "The sum is\n",
            "223000\n",
            "the maximum is\n",
            "Tanvi\n",
            "the minimum is\n",
            "Siri\n",
            "The average of salary is 44600\n"
          ],
          "name": "stdout"
        }
      ]
    },
    {
      "cell_type": "markdown",
      "metadata": {
        "id": "o8hjKGCD34Vn",
        "colab_type": "text"
      },
      "source": [
        " Add name and salary {name:salary} for n number of employees through keyboard in a dictionary and print only the employees whose salary is greater than 2000 but less than 4000"
      ]
    },
    {
      "cell_type": "code",
      "metadata": {
        "id": "TpMwpPS437cs",
        "colab_type": "code",
        "colab": {
          "base_uri": "https://localhost:8080/",
          "height": 258
        },
        "outputId": "d88958d8-1009-4065-ed8f-733c7a66ca5c"
      },
      "source": [
        " dict={}\n",
        "n=int(input(\"enter the no of employees\"))\n",
        "for i in range(n):\n",
        "  name=input(\"Enter the name\")\n",
        "  marks=int(input(\"Enter the salary\"))\n",
        "  dict[name]=marks\n",
        "print(dict)\n",
        "res={key:val for key, val in dict.items() if val>2000 and val<4000}\n",
        "print(res)"
      ],
      "execution_count": null,
      "outputs": [
        {
          "output_type": "stream",
          "text": [
            "enter the no of employees5\n",
            "Enter the nameSiri\n",
            "Enter the salary4000\n",
            "Enter the nameSam\n",
            "Enter the salary2500\n",
            "Enter the nameTanvi\n",
            "Enter the salary1500\n",
            "Enter the nameRavi\n",
            "Enter the salary3000\n",
            "Enter the nameSiya\n",
            "Enter the salary4500\n",
            "{'Siri': 4000, 'Sam': 2500, 'Tanvi': 1500, 'Ravi': 3000, 'Siya': 4500}\n",
            "{'Sam': 2500, 'Ravi': 3000}\n"
          ],
          "name": "stdout"
        }
      ]
    },
    {
      "cell_type": "markdown",
      "metadata": {
        "id": "We8Fouqq4LZ0",
        "colab_type": "text"
      },
      "source": [
        " Python program to convert a 3 digit number into words"
      ]
    },
    {
      "cell_type": "code",
      "metadata": {
        "id": "ExiVl2JS4N7a",
        "colab_type": "code",
        "colab": {
          "base_uri": "https://localhost:8080/",
          "height": 71
        },
        "outputId": "148dd16b-dc28-445f-ee15-4ea5220b2c38"
      },
      "source": [
        " d={0:'',1:'one',2:'two',3:'three',4:'four',5:'five',6:'six',7:'seven',8:'eight',9:'nine',\\\n",
        "   10:'ten',11:'eleven',12:'twelve',13:'thirteen',14:'fourteen',15:'fifteen',16:'sixteen',\\\n",
        "   17:'seventeen',18:'eightteen',19:'nineteen',20:'twenty',30:'thirty',40:'fourty',50:'fifty',\\\n",
        "   60:'sixty',70:'seventy',80:'eighty',90:'ninty',100:'hundred',200:'twohundred',300:'threehundred',400:'fourhundred',500:'fivehundred',600:'sixhundred',700:'sevenhundred',800:'eighthundred',900:'ninehundred'}\n",
        "num=int(input(\"Enter the integer between 1 to 999:\"))\n",
        "if (num<=20):\n",
        "      print(d[num])\n",
        "if(num>20 and num<1000):\n",
        "        if num%10==0:       \n",
        "            print(d[num])\n",
        "        else:\n",
        "            print(d[num//10*10]+\" \"+d[num%10])"
      ],
      "execution_count": null,
      "outputs": [
        {
          "output_type": "stream",
          "text": [
            "Enter the integer between 1 to 999:99\n",
            "ninty nine\n"
          ],
          "name": "stdout"
        }
      ]
    }
  ]
}